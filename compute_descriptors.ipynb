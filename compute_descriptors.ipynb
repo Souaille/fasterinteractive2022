{
 "cells": [
  {
   "cell_type": "markdown",
   "id": "8466a3f0-8614-4ca2-b193-f3234960a48b",
   "metadata": {},
   "source": [
    "This notebook aims to find and compute relevant loudness related indicators"
   ]
  },
  {
   "cell_type": "markdown",
   "id": "fc1d8d87-aa1e-4d38-91ba-b7b1f141443e",
   "metadata": {},
   "source": [
    "# I. Module imports"
   ]
  },
  {
   "cell_type": "code",
   "execution_count": 1,
   "id": "cc6cdf0a-e099-45dc-99cf-7fef5e479bd7",
   "metadata": {
    "tags": []
   },
   "outputs": [],
   "source": [
    "import os\n",
    "import librosa\n",
    "import timbral_models\n",
    "import numpy as np\n",
    "from tqdm import tqdm"
   ]
  },
  {
   "cell_type": "code",
   "execution_count": 2,
   "id": "34163eed-5be4-4a62-b208-a3c5e471dfaf",
   "metadata": {},
   "outputs": [],
   "source": [
    "import librosa.display"
   ]
  },
  {
   "cell_type": "code",
   "execution_count": 3,
   "id": "b0aee18e-fc7c-4ba6-bf0d-0600f8e584ec",
   "metadata": {},
   "outputs": [],
   "source": [
    "import scipy.stats"
   ]
  },
  {
   "cell_type": "code",
   "execution_count": 4,
   "id": "ed2b6ff2-35ba-483b-a651-afbf915eb8fd",
   "metadata": {
    "tags": []
   },
   "outputs": [],
   "source": [
    "import matplotlib.pyplot as plt\n",
    "from matplotlib.ticker import FormatStrFormatter\n",
    "%matplotlib inline\n",
    "plt.rcParams['figure.dpi'] = 200"
   ]
  },
  {
   "cell_type": "code",
   "execution_count": 5,
   "id": "47fea978-0d8f-43bc-8fa2-bb2cb109b7af",
   "metadata": {},
   "outputs": [],
   "source": [
    "from pathlib import Path"
   ]
  },
  {
   "cell_type": "code",
   "execution_count": 6,
   "id": "77bd2c88-759c-4b42-9b2c-44524108bd04",
   "metadata": {},
   "outputs": [],
   "source": [
    "from audio_features.features import Features\n",
    "from audio_features.utils import get_features_path"
   ]
  },
  {
   "cell_type": "code",
   "execution_count": 7,
   "id": "c75b1727-4293-436c-9bc5-486c89b7b915",
   "metadata": {},
   "outputs": [],
   "source": [
    "import pandas as pd"
   ]
  },
  {
   "cell_type": "code",
   "execution_count": 8,
   "id": "5279c806-1ce2-4abd-9adb-c97bf586bca4",
   "metadata": {},
   "outputs": [],
   "source": [
    "%load_ext autoreload"
   ]
  },
  {
   "cell_type": "code",
   "execution_count": 9,
   "id": "e5fc3bf8-879c-4b38-9371-0582eaeb3b97",
   "metadata": {},
   "outputs": [],
   "source": [
    "%autoreload 2"
   ]
  },
  {
   "cell_type": "code",
   "execution_count": 10,
   "id": "db0d27b7-0457-4376-bd94-bf6cddc22e8f",
   "metadata": {},
   "outputs": [],
   "source": [
    "from itertools import combinations, product"
   ]
  },
  {
   "cell_type": "code",
   "execution_count": 11,
   "id": "e43de354-0114-402f-934e-0fc4178f4215",
   "metadata": {},
   "outputs": [],
   "source": [
    "import time"
   ]
  },
  {
   "cell_type": "code",
   "execution_count": 12,
   "id": "cc3dbc51-5ea6-40c2-bca1-dca264b5009c",
   "metadata": {},
   "outputs": [],
   "source": [
    "from mosqito.functions.loudness_zwicker import comp_loudness"
   ]
  },
  {
   "cell_type": "code",
   "execution_count": 13,
   "id": "849550cf-68ca-4fbc-b55b-5eaf4ba179a4",
   "metadata": {},
   "outputs": [],
   "source": [
    "from mosqito.functions.oct3filter.oct3spec import oct3spec\n",
    "from mosqito.functions.oct3filter.comp_third_spectrum import comp_third_spec\n",
    "from mosqito.functions.oct3filter.calc_third_octave_levels import calc_third_octave_levels\n",
    "from mosqito.functions.loudness_zwicker.loudness_zwicker_stationary import loudness_zwicker_stationary"
   ]
  },
  {
   "cell_type": "markdown",
   "id": "8488883f-c28f-4cfe-b90e-cc095f14ae48",
   "metadata": {},
   "source": [
    "### dBA from power spectrum"
   ]
  },
  {
   "cell_type": "code",
   "execution_count": 14,
   "id": "92a65796-0ab5-4982-a720-2347b21d8715",
   "metadata": {},
   "outputs": [],
   "source": [
    "def L_to_dBA(F, P):\n",
    "    # Compute A weights with librosa\n",
    "    Aw = librosa.A_weighting(F)\n",
    "    # Compute A-weighted levels\n",
    "    Pw = P + Aw\n",
    "    # Compute total A-weighted level\n",
    "    Pwtot = 10*np.log10(np.sum(10**(Pw/10)))\n",
    "    return Pwtot"
   ]
  },
  {
   "cell_type": "markdown",
   "id": "d988d057-75d9-4eff-90f5-74fe5451b3d7",
   "metadata": {},
   "source": [
    "### dBA from signal"
   ]
  },
  {
   "cell_type": "code",
   "execution_count": 15,
   "id": "9713fdf1-b2ff-49fb-b54c-17914d679357",
   "metadata": {},
   "outputs": [],
   "source": [
    "def sig_to_dBA(y, Pref, sr, Fmin, Fmax, N):\n",
    "    _, P, F = timbral_models.filter_third_octaves_downsample(y, Pref, sr, Fmin, Fmax, N)\n",
    "    PA = L_to_dBA(F, P)\n",
    "    return PA"
   ]
  },
  {
   "cell_type": "markdown",
   "id": "30df34be-c0fc-4ac0-be75-266ac1ee8811",
   "metadata": {},
   "source": [
    "### Mean dN over several background extracts"
   ]
  },
  {
   "cell_type": "code",
   "execution_count": 16,
   "id": "b3f7d3d7-df88-4a0b-84af-8f5a6143025c",
   "metadata": {},
   "outputs": [],
   "source": [
    "def get_N_change_wb(y_b, y_w, sr, Pref, t_event=5.4, step=2):\n",
    "\n",
    "    dt = 1.5\n",
    "    w_length = int(round(0.5*sr))\n",
    "    idx_event = int(round(t_event*sr))\n",
    "    idx_prec = int(round((t_event-dt)*sr))\n",
    "    \n",
    "    n = y_w.shape[0]\n",
    "    dN_time = []\n",
    "    idx = 0\n",
    "    n_step = round(step*sr)\n",
    "    while y_b[idx:(idx+n)].shape[0] == n:\n",
    "        # Mix warning signal with background for each window\n",
    "        y = y_b[idx:(idx+n)] + y_w\n",
    "        # Compute loudness for the two windows preceeding detection\n",
    "        N_1, _ = timbral_models.specific_loudness(y[(idx_prec-w_length):idx_prec], Pref, sr, 0)\n",
    "        N_2, _ = timbral_models.specific_loudness(y[(idx_event-w_length):idx_event], Pref, sr, 0)\n",
    "        # Compute loudness difference\n",
    "        dN = N_2 - N_1\n",
    "        dN_time.append(dN)\n",
    "        idx = idx + n_step \n",
    "    dN_av = np.mean(dN_time)\n",
    "    return dN_av"
   ]
  },
  {
   "cell_type": "markdown",
   "id": "73c8331b-1da5-468c-88c2-776fb5c61afd",
   "metadata": {},
   "source": [
    "### Get list of background extract mean power spectrums "
   ]
  },
  {
   "cell_type": "code",
   "execution_count": 17,
   "id": "73d241c9-d261-4974-811d-f8da6707f5aa",
   "metadata": {},
   "outputs": [],
   "source": [
    "def get_F_back_extracts(y_b, sr, n_war, step=2, freq_scale=\"lin\", n_fft=2048):\n",
    "    S_back_list = []\n",
    "    \n",
    "    idx = 0\n",
    "    n_step = round(step*sr)\n",
    "    while y_b[idx:(idx+n_war)].shape[0] == n_war:\n",
    "        y_1 = y_b[idx:(idx+n_war)]\n",
    "        \n",
    "        if freq_scale == \"lin\":  \n",
    "            S1 = np.sqrt(np.abs(librosa.stft(y_1, n_fft=n_fft)**2).mean(axis=1))\n",
    "        elif freq_scale == \"mel\":\n",
    "            S1 = np.sqrt(librosa.feature.melspectrogram(y_1, sr=sr, n_fft=n_fft).mean(axis=1))\n",
    "            \n",
    "\n",
    "        \n",
    "        S_back_list.append(S1)\n",
    "        \n",
    "        idx = idx + n_step\n",
    "        \n",
    "    return S_back_list"
   ]
  },
  {
   "cell_type": "markdown",
   "id": "96a474d7-1186-4b32-ae52-a7403aab1000",
   "metadata": {},
   "source": [
    "### Compute difference for a given warning signal and average over given backround loudness profiles"
   ]
  },
  {
   "cell_type": "code",
   "execution_count": 18,
   "id": "709df6f7-c01c-4825-8cb2-4be468d3e778",
   "metadata": {},
   "outputs": [],
   "source": [
    "def get_F_diff_wb_full(S_back_list, y_w, sr, method=\"MAE\", only_pos=False, freq_scale=\"lin\", amp_scale=\"lin\", n_fft=2048):\n",
    "\n",
    "    dF_time = []\n",
    "\n",
    "    \n",
    "    for S1 in S_back_list:\n",
    "        y_2 = y_w\n",
    "        \n",
    "        if freq_scale == \"lin\":  \n",
    "            S2 = np.sqrt(np.abs(librosa.stft(y_2, n_fft=n_fft)**2).mean(axis=1))\n",
    "        elif freq_scale == \"mel\":\n",
    "            S2 = np.sqrt(librosa.feature.melspectrogram(y_2, sr=sr, n_fft=n_fft).mean(axis=1))\n",
    "        else:\n",
    "            print(\"Frequency scale [\", freq_scale, \"] is not an option\")\n",
    "        \n",
    "        if amp_scale == \"lin\":\n",
    "            diff = S2 - S1\n",
    "        elif amp_scale == \"log\":\n",
    "            S1_dB = librosa.amplitude_to_db(S1)\n",
    "            S2_dB = librosa.amplitude_to_db(S2)\n",
    "            diff = S2_dB - S1_dB\n",
    "        elif amp_scale == \"pow\":\n",
    "            diff = S2**2 - S1**2\n",
    "        else:\n",
    "            print(\"Amplitude scale [\", amp_scale, \"] is not an option\")\n",
    "            \n",
    "        \n",
    "        if only_pos:\n",
    "            diff[diff<0] = 0\n",
    "        if method == \"MAE\":\n",
    "            dF = np.mean(np.abs(diff))\n",
    "        elif method == \"MSE\":\n",
    "            dF = np.mean(np.abs(diff)**2)\n",
    "        elif method == 'logsum':\n",
    "            dF = 10*np.log10(np.sum(10**(np.abs(diff)/10))/diff.shape[0])\n",
    "        dF_time.append(dF)\n",
    "        \n",
    "    dF_av = np.mean(dF_time)\n",
    "    return dF_av"
   ]
  },
  {
   "cell_type": "markdown",
   "id": "fbfc458b-2a33-4e82-8734-d2aa4b5e501b",
   "metadata": {},
   "source": [
    "### Loudness over background + warning with a moving window, with Timbral Models"
   ]
  },
  {
   "cell_type": "code",
   "execution_count": 19,
   "id": "62b6e3b8-7faf-4beb-bb5d-05cf181a206c",
   "metadata": {},
   "outputs": [],
   "source": [
    "def get_N_time_withsig(y_b, y_w, sr, Pref, step, cal_back=1):\n",
    "    n = y_w.shape[0]\n",
    "    idx = 0\n",
    "    N_time = []\n",
    "    while y_b[idx:(idx+n)].shape[0] == n:\n",
    "        N_t, _ = timbral_models.specific_loudness(cal_back*(y_b[idx:(idx+n)] + y_w), Pref, sr, 0)\n",
    "        N_time.append(N_t)\n",
    "        idx = idx + step                \n",
    "    return N_time"
   ]
  },
  {
   "cell_type": "markdown",
   "id": "3c7e2e12-83ae-4e43-b280-1dfb5101f202",
   "metadata": {
    "tags": []
   },
   "source": [
    "## Define the path to the background sound file and import it"
   ]
  },
  {
   "cell_type": "code",
   "execution_count": 20,
   "id": "a339d69d-7ca5-46d7-b7c7-ba003b7318d9",
   "metadata": {
    "tags": []
   },
   "outputs": [],
   "source": [
    "file_path = os.path.join(\"data\", \"audio_files\", \"projet1_background\")\n",
    "file_name = \"Beaubourg01_ORTF_42.wav\""
   ]
  },
  {
   "cell_type": "code",
   "execution_count": 21,
   "id": "f10c9ca8-0c52-41ba-b234-e4d68cb227bd",
   "metadata": {},
   "outputs": [],
   "source": [
    "y_b, sr_b = librosa.load(os.path.join(file_path, file_name), sr=None)"
   ]
  },
  {
   "cell_type": "markdown",
   "id": "02f90da6-0021-4435-a835-969e90b3a8fd",
   "metadata": {},
   "source": [
    "## Find reference level to match background level target"
   ]
  },
  {
   "cell_type": "markdown",
   "id": "4dc628b9-2270-4dfb-a6ce-75dcfbd928ad",
   "metadata": {},
   "source": [
    "Compute level in third octave bands and corresponding center frequencies"
   ]
  },
  {
   "cell_type": "code",
   "execution_count": 22,
   "id": "5a5dafba-3620-4e75-b101-138bb0376603",
   "metadata": {},
   "outputs": [],
   "source": [
    "Pref = -20*np.log10(20e-6) # This is the reference value that should be used to get dB SPL from Pa signal.\n",
    "Fmin = 25\n",
    "Fmax = 12500\n",
    "N = 4"
   ]
  },
  {
   "cell_type": "markdown",
   "id": "4d779b02-fc96-441c-be59-e994c7a977fa",
   "metadata": {},
   "source": [
    "Get power per 1/3 octave bands"
   ]
  },
  {
   "cell_type": "code",
   "execution_count": 23,
   "id": "75e2489e-927e-412f-aeb3-ad18c0276659",
   "metadata": {},
   "outputs": [],
   "source": [
    "_, P, F = timbral_models.filter_third_octaves_downsample(y_b, Pref, sr_b, Fmin, Fmax, N)"
   ]
  },
  {
   "cell_type": "markdown",
   "id": "3b0fe392-be89-4aaa-a58c-9ce4aeea3517",
   "metadata": {},
   "source": [
    "Get total power level in dBA"
   ]
  },
  {
   "cell_type": "code",
   "execution_count": 24,
   "id": "e7bf332c-08c4-4d9e-aa2d-5185adb7f66e",
   "metadata": {},
   "outputs": [
    {
     "name": "stdout",
     "output_type": "stream",
     "text": [
      "Level:  47.409704301875024 dBA\n"
     ]
    }
   ],
   "source": [
    "Pw_tot = sig_to_dBA(y_b, Pref, sr_b, Fmin, Fmax, N)\n",
    "print('Level: ', Pw_tot, 'dBA')"
   ]
  },
  {
   "cell_type": "markdown",
   "id": "6dc4d508-f2ea-4202-b090-a729802f7acc",
   "metadata": {},
   "source": [
    "Get calibration factor based on target level, which is 69dBA"
   ]
  },
  {
   "cell_type": "code",
   "execution_count": 25,
   "id": "e290a10c-5156-4186-8c9a-9e8661de1bfa",
   "metadata": {
    "tags": []
   },
   "outputs": [],
   "source": [
    "Pw_target = 69\n",
    "cal_back = 10**((Pw_target- Pw_tot)/20)"
   ]
  },
  {
   "cell_type": "markdown",
   "id": "f4315dfa-fa72-4eba-a1ee-624de98353ce",
   "metadata": {},
   "source": [
    "# Compute descriptors"
   ]
  },
  {
   "cell_type": "markdown",
   "id": "f65ee55d-8e1f-40e9-b60a-960208f54f93",
   "metadata": {},
   "source": [
    "## N_BS"
   ]
  },
  {
   "cell_type": "code",
   "execution_count": 26,
   "id": "f325e17a-29a1-491a-97be-8411860238e8",
   "metadata": {},
   "outputs": [],
   "source": [
    "# Define source folder\n",
    "sound_dataset = 'projet1_synth_spatmono'\n",
    "# Create full source folde path\n",
    "folder_src = os.path.join('data', 'audio_files', sound_dataset)\n",
    "# Create destination path based on naming convention for the projet\n",
    "features = 'N_BS'\n",
    "folder_des = get_features_path(features, sound_dataset, True)"
   ]
  },
  {
   "cell_type": "code",
   "execution_count": 27,
   "id": "120f5aed-ba09-4e9b-b1df-958c46d5247e",
   "metadata": {
    "tags": []
   },
   "outputs": [
    {
     "name": "stderr",
     "output_type": "stream",
     "text": [
      "100%|███████████████████████████████████| 2548/2548 [00:00<00:00, 230285.44it/s]\n"
     ]
    }
   ],
   "source": [
    "# Define time step between each window\n",
    "d_step = 2\n",
    "step = round(sr_b*d_step)\n",
    "for file in tqdm(os.listdir(folder_src)):\n",
    "    # Create destination file name\n",
    "    filename_des = os.path.splitext(file)[0] + '.npy'\n",
    "    # Check if features already computed for this file\n",
    "    deja_vu = os.path.exists(os.path.join(folder_des, filename_des))\n",
    "    # Compute if not already done\n",
    "    if not deja_vu:\n",
    "        # Load file, upsample to match background sr\n",
    "        y_w, sr_w = librosa.load(os.path.join(folder_src, file), sr=sr_b)\n",
    "        # Compute loudness for signal combined with different background sections\n",
    "        N_arr = get_N_time_withsig(cal_back*y_b, cal_back*y_w, sr_b, Pref, step)\n",
    "        # Average\n",
    "        N_av = np.mean(N_arr, keepdims=True)\n",
    "        # Create destination path if it does not already exist\n",
    "        Path(folder_des).mkdir(parents=True, exist_ok=True)\n",
    "        # Save features\n",
    "        np.save(os.path.join(folder_des, filename_des), N_av)"
   ]
  },
  {
   "cell_type": "markdown",
   "id": "8ac4fd85-d6e5-47f8-9466-c4cf59974355",
   "metadata": {},
   "source": [
    "## dNpeak_BS"
   ]
  },
  {
   "cell_type": "markdown",
   "id": "659d22bf-d7f3-47bf-bee5-08de67f415cb",
   "metadata": {},
   "source": [
    "Compute loudness difference, with peak time as reference, with background."
   ]
  },
  {
   "cell_type": "code",
   "execution_count": 28,
   "id": "0ee6f60e-ff4a-4d92-a700-0839b53035f0",
   "metadata": {},
   "outputs": [],
   "source": [
    "# Define source folder\n",
    "sound_dataset = 'projet1_synth_spatmono'\n",
    "# Create full source folde path\n",
    "folder_src = os.path.join('data', 'audio_files', sound_dataset)\n",
    "# Create destination path based on naming convention for the projet\n",
    "features = 'dNpeak_BS'\n",
    "folder_des = get_features_path(features, sound_dataset, True)"
   ]
  },
  {
   "cell_type": "code",
   "execution_count": 29,
   "id": "4dbb6f53-ee6c-4832-a1da-76f68f89fa25",
   "metadata": {},
   "outputs": [
    {
     "name": "stderr",
     "output_type": "stream",
     "text": [
      "100%|███████████████████████████████████| 2548/2548 [00:00<00:00, 148211.50it/s]\n"
     ]
    }
   ],
   "source": [
    "for file in tqdm(os.listdir(folder_src)):\n",
    "    # Create destination file name\n",
    "    filename_des = os.path.splitext(file)[0] + '.npy'\n",
    "    # Check if features already computed for this file\n",
    "    deja_vu = os.path.exists(os.path.join(folder_des, filename_des))\n",
    "    # Compute if not already done\n",
    "    if not deja_vu:\n",
    "        # Load file, upsample to match background sr\n",
    "        y_w, sr_w = librosa.load(os.path.join(folder_src, file), sr=sr_b)\n",
    "        # Compute loudness for signal alone\n",
    "        dN = get_N_change_wb(cal_back*y_b, cal_back*y_w, sr_b, Pref, t_event=5.4, step=2)\n",
    "        # Create destination path if it does not already exist\n",
    "        Path(folder_des).mkdir(parents=True, exist_ok=True)\n",
    "        # Save features\n",
    "        np.save(os.path.join(folder_des, filename_des), np.array([dN]))"
   ]
  },
  {
   "cell_type": "markdown",
   "id": "aef97b70-45bd-46f4-813f-59a1ec565d54",
   "metadata": {},
   "source": [
    "## dFBmelpowfullMAEpos_S"
   ]
  },
  {
   "cell_type": "code",
   "execution_count": 30,
   "id": "fa5a887f-d5c8-4719-abc1-ac367aa7b26a",
   "metadata": {},
   "outputs": [],
   "source": [
    "# Define source folder\n",
    "sound_dataset = 'projet1_synth_spatmono'\n",
    "# Create full source folde path\n",
    "folder_src = os.path.join('data', 'audio_files', sound_dataset)\n",
    "# Create destination path based on naming convention for the projet\n",
    "features = 'dFBmelpowfullMAEpos_S'\n",
    "folder_des = get_features_path(features, sound_dataset, True)"
   ]
  },
  {
   "cell_type": "code",
   "execution_count": 31,
   "id": "ba5ff8be-ccce-4e8d-a766-918696e06c84",
   "metadata": {},
   "outputs": [],
   "source": [
    "# Get number of samples in warning signals\n",
    "y_w, _ = librosa.load(os.path.join(folder_src, file), sr=sr_b)\n",
    "n_war = y_w.shape[0]"
   ]
  },
  {
   "cell_type": "code",
   "execution_count": 32,
   "id": "f8feef9e-d19c-46f3-9ed6-5f95822d639e",
   "metadata": {},
   "outputs": [
    {
     "name": "stderr",
     "output_type": "stream",
     "text": [
      "/tmp/ipykernel_54120/4136926254.py:12: FutureWarning: Pass y=[0.         0.         0.         ... 0.19625662 0.20028803 0.21549746] as keyword args. From version 0.10 passing these as positional arguments will result in an error\n",
      "  S1 = np.sqrt(librosa.feature.melspectrogram(y_1, sr=sr, n_fft=n_fft).mean(axis=1))\n",
      "/tmp/ipykernel_54120/4136926254.py:12: FutureWarning: Pass y=[0.14439796 0.14586394 0.1493456  ... 0.13798435 0.13816759 0.14531419] as keyword args. From version 0.10 passing these as positional arguments will result in an error\n",
      "  S1 = np.sqrt(librosa.feature.melspectrogram(y_1, sr=sr, n_fft=n_fft).mean(axis=1))\n",
      "/tmp/ipykernel_54120/4136926254.py:12: FutureWarning: Pass y=[0.142932   0.1500786  0.16345556 ... 0.0996859  0.10225135 0.0973037 ] as keyword args. From version 0.10 passing these as positional arguments will result in an error\n",
      "  S1 = np.sqrt(librosa.feature.melspectrogram(y_1, sr=sr, n_fft=n_fft).mean(axis=1))\n",
      "/tmp/ipykernel_54120/4136926254.py:12: FutureWarning: Pass y=[0.25471213 0.25086397 0.24719904 ... 0.28054985 0.24518333 0.21219903] as keyword args. From version 0.10 passing these as positional arguments will result in an error\n",
      "  S1 = np.sqrt(librosa.feature.melspectrogram(y_1, sr=sr, n_fft=n_fft).mean(axis=1))\n",
      "/tmp/ipykernel_54120/4136926254.py:12: FutureWarning: Pass y=[0.13047126 0.1544765  0.1759163  ... 0.06798432 0.07219898 0.08594244] as keyword args. From version 0.10 passing these as positional arguments will result in an error\n",
      "  S1 = np.sqrt(librosa.feature.melspectrogram(y_1, sr=sr, n_fft=n_fft).mean(axis=1))\n",
      "/tmp/ipykernel_54120/4136926254.py:12: FutureWarning: Pass y=[0.02162305 0.01520943 0.0142932  ... 0.46764416 0.47717294 0.47955516] as keyword args. From version 0.10 passing these as positional arguments will result in an error\n",
      "  S1 = np.sqrt(librosa.feature.melspectrogram(y_1, sr=sr, n_fft=n_fft).mean(axis=1))\n",
      "/tmp/ipykernel_54120/4136926254.py:12: FutureWarning: Pass y=[-0.3291101  -0.32068074 -0.31060222 ...  0.05808903  0.05130892\n",
      "  0.04086389] as keyword args. From version 0.10 passing these as positional arguments will result in an error\n",
      "  S1 = np.sqrt(librosa.feature.melspectrogram(y_1, sr=sr, n_fft=n_fft).mean(axis=1))\n",
      "/tmp/ipykernel_54120/4136926254.py:12: FutureWarning: Pass y=[ 0.00971205  0.01209425  0.01301048 ... -0.38774884 -0.3888483\n",
      " -0.38463366] as keyword args. From version 0.10 passing these as positional arguments will result in an error\n",
      "  S1 = np.sqrt(librosa.feature.melspectrogram(y_1, sr=sr, n_fft=n_fft).mean(axis=1))\n",
      "/tmp/ipykernel_54120/4136926254.py:12: FutureWarning: Pass y=[ 0.13670163  0.14128278  0.14678016 ... -0.08026181 -0.07329845\n",
      " -0.06358641] as keyword args. From version 0.10 passing these as positional arguments will result in an error\n",
      "  S1 = np.sqrt(librosa.feature.melspectrogram(y_1, sr=sr, n_fft=n_fft).mean(axis=1))\n",
      "/tmp/ipykernel_54120/4136926254.py:12: FutureWarning: Pass y=[ 0.2120158   0.21293202  0.20780112 ... -0.1187435  -0.12240842\n",
      " -0.12717283] as keyword args. From version 0.10 passing these as positional arguments will result in an error\n",
      "  S1 = np.sqrt(librosa.feature.melspectrogram(y_1, sr=sr, n_fft=n_fft).mean(axis=1))\n",
      "/tmp/ipykernel_54120/4136926254.py:12: FutureWarning: Pass y=[-0.1500786  -0.15099482 -0.14476445 ...  0.05057593  0.03848169\n",
      "  0.02217278] as keyword args. From version 0.10 passing these as positional arguments will result in an error\n",
      "  S1 = np.sqrt(librosa.feature.melspectrogram(y_1, sr=sr, n_fft=n_fft).mean(axis=1))\n",
      "/tmp/ipykernel_54120/4136926254.py:12: FutureWarning: Pass y=[-0.09913617 -0.08099479 -0.07256547 ...  0.09583773  0.09272255\n",
      "  0.08832464] as keyword args. From version 0.10 passing these as positional arguments will result in an error\n",
      "  S1 = np.sqrt(librosa.feature.melspectrogram(y_1, sr=sr, n_fft=n_fft).mean(axis=1))\n",
      "/tmp/ipykernel_54120/4136926254.py:12: FutureWarning: Pass y=[ 0.10170161  0.09583773  0.0925393  ... -0.11562832 -0.11709429\n",
      " -0.11251313] as keyword args. From version 0.10 passing these as positional arguments will result in an error\n",
      "  S1 = np.sqrt(librosa.feature.melspectrogram(y_1, sr=sr, n_fft=n_fft).mean(axis=1))\n",
      "/tmp/ipykernel_54120/4136926254.py:12: FutureWarning: Pass y=[ 0.05973824  0.04874348  0.04361258 ... -0.13248695 -0.13908382\n",
      " -0.15136132] as keyword args. From version 0.10 passing these as positional arguments will result in an error\n",
      "  S1 = np.sqrt(librosa.feature.melspectrogram(y_1, sr=sr, n_fft=n_fft).mean(axis=1))\n",
      "/tmp/ipykernel_54120/4136926254.py:12: FutureWarning: Pass y=[-0.04031415 -0.0262042  -0.01814137 ... -0.07568066 -0.07494767\n",
      " -0.07989532] as keyword args. From version 0.10 passing these as positional arguments will result in an error\n",
      "  S1 = np.sqrt(librosa.feature.melspectrogram(y_1, sr=sr, n_fft=n_fft).mean(axis=1))\n",
      "/tmp/ipykernel_54120/4136926254.py:12: FutureWarning: Pass y=[ 0.12460738  0.12808906  0.12662308 ... -0.0404974  -0.035733\n",
      " -0.03426703] as keyword args. From version 0.10 passing these as positional arguments will result in an error\n",
      "  S1 = np.sqrt(librosa.feature.melspectrogram(y_1, sr=sr, n_fft=n_fft).mean(axis=1))\n",
      "/tmp/ipykernel_54120/4136926254.py:12: FutureWarning: Pass y=[-0.08007856 -0.05094243 -0.04123038 ...  0.01575917  0.02034032\n",
      "  0.02034032] as keyword args. From version 0.10 passing these as positional arguments will result in an error\n",
      "  S1 = np.sqrt(librosa.feature.melspectrogram(y_1, sr=sr, n_fft=n_fft).mean(axis=1))\n",
      "/tmp/ipykernel_54120/4136926254.py:12: FutureWarning: Pass y=[ 0.00824608  0.01557592  0.01997383 ... -0.10829847 -0.12552361\n",
      " -0.14091629] as keyword args. From version 0.10 passing these as positional arguments will result in an error\n",
      "  S1 = np.sqrt(librosa.feature.melspectrogram(y_1, sr=sr, n_fft=n_fft).mean(axis=1))\n"
     ]
    }
   ],
   "source": [
    "F_back_list = get_F_back_extracts(cal_back*y_b, sr_b, n_war, step=2, freq_scale=\"mel\")"
   ]
  },
  {
   "cell_type": "code",
   "execution_count": 33,
   "id": "b960bf85-24dd-4cb0-8128-52783b2da366",
   "metadata": {
    "tags": []
   },
   "outputs": [
    {
     "name": "stderr",
     "output_type": "stream",
     "text": [
      "100%|███████████████████████████████████| 2548/2548 [00:00<00:00, 106182.80it/s]\n"
     ]
    }
   ],
   "source": [
    "for file in tqdm(os.listdir(folder_src)):\n",
    "    # Create destination file name\n",
    "    filename_des = os.path.splitext(file)[0] + '.npy'\n",
    "    # Check if features already computed for this file\n",
    "    deja_vu = os.path.exists(os.path.join(folder_des, filename_des))\n",
    "    # Compute if not already done\n",
    "    if not deja_vu:\n",
    "        # Load file, upsample to match background sr\n",
    "        y_w, sr_w = librosa.load(os.path.join(folder_src, file), sr=sr_b)\n",
    "        # Compute loudness for signal alone\n",
    "        dF = get_F_diff_wb_full(F_back_list, cal_back*y_w, sr_b, method=\"MAE\", only_pos=True, freq_scale=\"mel\", amp_scale=\"pow\")\n",
    "        # Create destination path if it does not already exist\n",
    "        Path(folder_des).mkdir(parents=True, exist_ok=True)\n",
    "        # Save features\n",
    "        np.save(os.path.join(folder_des, filename_des), np.array([dF]))"
   ]
  },
  {
   "cell_type": "code",
   "execution_count": null,
   "id": "10fb03fa-45d9-47ac-a97e-84cf4297a5a2",
   "metadata": {},
   "outputs": [],
   "source": []
  }
 ],
 "metadata": {
  "kernelspec": {
   "display_name": "fast_inter2",
   "language": "python",
   "name": "fast_inter2"
  },
  "language_info": {
   "codemirror_mode": {
    "name": "ipython",
    "version": 3
   },
   "file_extension": ".py",
   "mimetype": "text/x-python",
   "name": "python",
   "nbconvert_exporter": "python",
   "pygments_lexer": "ipython3",
   "version": "3.10.6"
  }
 },
 "nbformat": 4,
 "nbformat_minor": 5
}
